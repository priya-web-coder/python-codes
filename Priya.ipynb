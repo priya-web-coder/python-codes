{
  "nbformat": 4,
  "nbformat_minor": 0,
  "metadata": {
    "colab": {
      "provenance": [],
      "authorship_tag": "ABX9TyPjqCoJJZIUvxuBBN6Cmh0H",
      "include_colab_link": true
    },
    "kernelspec": {
      "name": "python3",
      "display_name": "Python 3"
    },
    "language_info": {
      "name": "python"
    }
  },
  "cells": [
    {
      "cell_type": "markdown",
      "metadata": {
        "id": "view-in-github",
        "colab_type": "text"
      },
      "source": [
        "<a href=\"https://colab.research.google.com/github/priya-web-coder/python-codes/blob/main/Priya.ipynb\" target=\"_parent\"><img src=\"https://colab.research.google.com/assets/colab-badge.svg\" alt=\"Open In Colab\"/></a>"
      ]
    },
    {
      "cell_type": "markdown",
      "source": [
        "### ***Variables and data types***"
      ],
      "metadata": {
        "id": "4g2HElUD1Qqq"
      }
    },
    {
      "cell_type": "code",
      "execution_count": null,
      "metadata": {
        "colab": {
          "base_uri": "https://localhost:8080/"
        },
        "id": "-Pl0MoaesMmS",
        "outputId": "55a658be-8704-47c9-d20e-c23f51613666"
      },
      "outputs": [
        {
          "output_type": "stream",
          "name": "stdout",
          "text": [
            "Enter first number: 20\n",
            "Enter second number: 10\n",
            "answer: 30\n"
          ]
        }
      ],
      "source": [
        "#input two numbers and print sum\n",
        "\n",
        "num1 = int(input(\"Enter first number: \"))\n",
        "num2 = int(input(\"Enter second number: \"))\n",
        "result = num1 + num2\n",
        "print(\"answer:\",result)"
      ]
    },
    {
      "cell_type": "code",
      "source": [
        "#input side of a square and print its area\n",
        "\n",
        "side = int(input(\"Enter side of square:\"))\n",
        "area = side * side\n",
        "print(\"area:\", area)"
      ],
      "metadata": {
        "colab": {
          "base_uri": "https://localhost:8080/"
        },
        "id": "Clvdc29qtQmk",
        "outputId": "c1442733-4dcf-4445-96a5-c39e866e912a"
      },
      "execution_count": null,
      "outputs": [
        {
          "output_type": "stream",
          "name": "stdout",
          "text": [
            "Enter side of square:20\n",
            "area: 400\n"
          ]
        }
      ]
    },
    {
      "cell_type": "code",
      "source": [
        "#input two floating numbers and print their average\n",
        "\n",
        "a = float(input(\"Enter first number: \"))\n",
        "b = float(input(\"Enter second number: \"))\n",
        "result = (a+b)/2\n",
        "print(\"average:\", result)"
      ],
      "metadata": {
        "colab": {
          "base_uri": "https://localhost:8080/"
        },
        "id": "o8GrPaIithyt",
        "outputId": "fbada8e6-8232-4135-b1e2-837e2577adaf"
      },
      "execution_count": null,
      "outputs": [
        {
          "output_type": "stream",
          "name": "stdout",
          "text": [
            "Enter first number: 20\n",
            "Enter second number: 10\n",
            "average: 15.0\n"
          ]
        }
      ]
    },
    {
      "cell_type": "code",
      "source": [
        "#to print two int numbers a and b. print true if a is greater than b. print false if not\n",
        "\n",
        "a = int(input(\"Enter first number: \"))\n",
        "b = int(input(\"Enter second number: \"))\n",
        "if a>=b:\n",
        "  print(True)\n",
        "else:\n",
        "  print(False)"
      ],
      "metadata": {
        "colab": {
          "base_uri": "https://localhost:8080/"
        },
        "id": "Yf1WHthqvk1r",
        "outputId": "af565cdc-5adc-4bd5-f3f7-7a9b4dd0a14b"
      },
      "execution_count": null,
      "outputs": [
        {
          "output_type": "stream",
          "name": "stdout",
          "text": [
            "Enter first number: 10\n",
            "Enter second number: 20\n",
            "False\n"
          ]
        }
      ]
    },
    {
      "cell_type": "markdown",
      "source": [
        "### ***Strings and Conditional Statements***"
      ],
      "metadata": {
        "id": "Z7D4oLxr1BKp"
      }
    },
    {
      "cell_type": "code",
      "source": [
        "#input user's first name and print its length\n",
        "\n",
        "name = input(\"Enter user's first name: \")\n",
        "name = len(name)\n",
        "print(\"length:\", name)"
      ],
      "metadata": {
        "colab": {
          "base_uri": "https://localhost:8080/"
        },
        "id": "KCisc0prwMX0",
        "outputId": "d35d287c-b3b2-417c-9599-c79d203ee957"
      },
      "execution_count": null,
      "outputs": [
        {
          "output_type": "stream",
          "name": "stdout",
          "text": [
            "Enter user's first name: Priya\n",
            "length: 5\n"
          ]
        }
      ]
    },
    {
      "cell_type": "code",
      "source": [
        "#find the occurrence of $ in a string\n",
        "\n",
        "str = \"HI, $Iam the $ symbol $98\"\n",
        "print(str.count(\"$\"))"
      ],
      "metadata": {
        "colab": {
          "base_uri": "https://localhost:8080/"
        },
        "id": "PnOHHhBl7axY",
        "outputId": "64e4968c-3280-4181-d618-270420d8fa32"
      },
      "execution_count": null,
      "outputs": [
        {
          "output_type": "stream",
          "name": "stdout",
          "text": [
            "3\n"
          ]
        }
      ]
    },
    {
      "cell_type": "code",
      "source": [
        "#to check if the number entered by the user is odd or even\n",
        "\n",
        "num = float(input(\"Enter any nummber: \"))\n",
        "\n",
        "if num%2 == 0:\n",
        "  print(\"even\")\n",
        "else:\n",
        "  print(\"odd\")"
      ],
      "metadata": {
        "colab": {
          "base_uri": "https://localhost:8080/"
        },
        "id": "vJsqvB6977me",
        "outputId": "06f94c07-afaf-444f-8c46-95ef75fe3ede"
      },
      "execution_count": null,
      "outputs": [
        {
          "output_type": "stream",
          "name": "stdout",
          "text": [
            "Enter any nummber: 40\n",
            "even\n"
          ]
        }
      ]
    },
    {
      "cell_type": "code",
      "source": [
        "#find greatest of 3 numbers entered by the user\n",
        "\n",
        "a = float(input(\"Enter first number: \"))\n",
        "b = float(input(\"Enter second number: \"))\n",
        "c = float(input(\"Enter third number: \"))\n",
        "\n",
        "if a>b and a>c:\n",
        "  print(\"a is greatest\")\n",
        "elif b>a and b>c:\n",
        "  print(\"b is greatest\")\n",
        "else:\n",
        "  print(\"c is greatest\")"
      ],
      "metadata": {
        "colab": {
          "base_uri": "https://localhost:8080/"
        },
        "id": "FTokMUFcgRM7",
        "outputId": "efbf3179-1492-4b78-ef78-77f8bea3093f"
      },
      "execution_count": null,
      "outputs": [
        {
          "output_type": "stream",
          "name": "stdout",
          "text": [
            "Enter first number: 2\n",
            "Enter second number: 3\n",
            "Enter third number: 5\n",
            "c is greatest\n"
          ]
        }
      ]
    },
    {
      "cell_type": "code",
      "source": [
        "#to check if a number is a multiple of 7 or not\n",
        "\n",
        "num = float(input(\"Enter any number: \"))\n",
        "\n",
        "if num%7 == 0:\n",
        "  print(\"multiple of 7\")\n",
        "else:\n",
        "  print(\"not a multiple of 7\")"
      ],
      "metadata": {
        "colab": {
          "base_uri": "https://localhost:8080/"
        },
        "id": "ZKaUjpBPhtsa",
        "outputId": "6cfb1164-560d-41f7-9a1b-710c744b3a02"
      },
      "execution_count": null,
      "outputs": [
        {
          "output_type": "stream",
          "name": "stdout",
          "text": [
            "Enter any number: 48\n",
            "not a multiple of 7\n"
          ]
        }
      ]
    },
    {
      "cell_type": "markdown",
      "source": [
        "### ***List and tuples***"
      ],
      "metadata": {
        "id": "_k2hnPHm1rHa"
      }
    },
    {
      "cell_type": "code",
      "source": [
        "#to enter 3 movies and store them in a list\n",
        "movies = []\n",
        "mov1 = input(\"Enter first movie: \")\n",
        "mov2 = input(\"Enter second movie: \")\n",
        "mov3 = input(\"Enter third movie: \")\n",
        "movies.append(mov1)\n",
        "movies.append(mov2)\n",
        "movies.append(mov3)\n",
        "print(movies)"
      ],
      "metadata": {
        "colab": {
          "base_uri": "https://localhost:8080/"
        },
        "id": "h2SmuF41ibyj",
        "outputId": "aa64ffef-972f-455b-fa73-ff8a749451db"
      },
      "execution_count": null,
      "outputs": [
        {
          "output_type": "stream",
          "name": "stdout",
          "text": [
            "Enter first movie: dilwale\n",
            "Enter second movie: ddlj\n",
            "Enter third movie: k3g\n",
            "['dilwale', 'ddlj', 'k3g']\n"
          ]
        }
      ]
    },
    {
      "cell_type": "code",
      "source": [
        "#to count number of students with \"A\" grade in the tuple\n",
        "\n",
        "grades = [\"C\", \"D\", \"A\", \"A\", \"B\", \"B\", \"A\"]\n",
        "print(grades.count(\"A\"))"
      ],
      "metadata": {
        "colab": {
          "base_uri": "https://localhost:8080/"
        },
        "id": "6qQmMe1s2LA7",
        "outputId": "7812839c-5b47-4fbd-d883-4ebc409f7a18"
      },
      "execution_count": null,
      "outputs": [
        {
          "output_type": "stream",
          "name": "stdout",
          "text": [
            "3\n"
          ]
        }
      ]
    },
    {
      "cell_type": "code",
      "source": [
        "#to sort the values in a list and sort them in ascending\n",
        "\n",
        "grades = [\"C\", \"D\", \"A\", \"A\", \"B\", \"B\", \"A\"]\n",
        "grades.sort()\n",
        "print(grades)"
      ],
      "metadata": {
        "colab": {
          "base_uri": "https://localhost:8080/"
        },
        "id": "Z97W2l699i2g",
        "outputId": "08c9d936-4204-4236-b81a-e58564224a2e"
      },
      "execution_count": null,
      "outputs": [
        {
          "output_type": "stream",
          "name": "stdout",
          "text": [
            "['A', 'A', 'A', 'B', 'B', 'C', 'D']\n"
          ]
        }
      ]
    },
    {
      "cell_type": "markdown",
      "source": [
        "### ***Dictionaries and sets***"
      ],
      "metadata": {
        "id": "inYnbBOg16CV"
      }
    },
    {
      "cell_type": "code",
      "source": [
        "#dictionaries example\n",
        "info = {\n",
        "    \"name\" : \"priya\",\n",
        "    \"age\" : \"21\",\n",
        "    \"learning\" : \"python\",\n",
        "    \"hobby\" : \"dancing\",\n",
        "    21.2 : 94.4\n",
        "}\n",
        "print(info)\n",
        "print(type(info))"
      ],
      "metadata": {
        "id": "lHqQdEN7-XQA",
        "colab": {
          "base_uri": "https://localhost:8080/"
        },
        "outputId": "e02f9960-be4f-4a7e-ce74-3771c69cad74"
      },
      "execution_count": null,
      "outputs": [
        {
          "output_type": "stream",
          "name": "stdout",
          "text": [
            "{'name': 'priya', 'age': '21', 'learning': 'python', 'hobby': 'dancing', 21.2: 94.4}\n",
            "<class 'dict'>\n"
          ]
        }
      ]
    },
    {
      "cell_type": "code",
      "source": [
        "#students name and marks in their subject\n",
        "\n",
        "students = {\n",
        "    \"name\" : {\n",
        "        \"student1\" : \"priya\",\n",
        "        \"student2\" : \"neha\",\n",
        "        \"student3\" : \"rahul\",\n",
        "    },\n",
        "    \"subject\" : {\n",
        "        \"subject1\" : \"maths\",\n",
        "        \"subject2\" : \"physics\",\n",
        "        \"subject3\" : \"chemistry\",\n",
        "    },\n",
        "    \"marks\" : {\n",
        "        \"maths\" : [\"70\", \"80\", \"90\", \"100\"],\n",
        "        \"physics\" : [\"60\", \"70\", \"80\", \"90\"],\n",
        "        \"chemistry\" : [\"50\", \"60\", \"70\", \"80\"]\n",
        "    },\n",
        "}\n",
        "print((students.items()))"
      ],
      "metadata": {
        "id": "K0PFxyIA2X8T",
        "colab": {
          "base_uri": "https://localhost:8080/"
        },
        "outputId": "0e0c3e47-971c-4ab5-a629-248a4d49b304"
      },
      "execution_count": null,
      "outputs": [
        {
          "output_type": "stream",
          "name": "stdout",
          "text": [
            "dict_items([('name', {'student1': 'priya', 'student2': 'neha', 'student3': 'rahul'}), ('subject', {'subject1': 'maths', 'subject2': 'physics', 'subject3': 'chemistry'}), ('marks', {'maths': ['70', '80', '90', '100'], 'physics': ['60', '70', '80', '90'], 'chemistry': ['50', '60', '70', '80']})])\n"
          ]
        }
      ]
    },
    {
      "cell_type": "code",
      "source": [
        "#store following word meanings in python dictionary\n",
        "dictionary = {\n",
        "    \"cat\" : \"a small animal\",\n",
        "    \"table\" : [\"a piece of furniture\", \"list of facts and figures\"]\n",
        "}\n",
        "print(dictionary)"
      ],
      "metadata": {
        "colab": {
          "base_uri": "https://localhost:8080/"
        },
        "id": "x438WCHY8QlW",
        "outputId": "05ee7878-99f0-45b1-f5f4-ce155ca079ab"
      },
      "execution_count": null,
      "outputs": [
        {
          "output_type": "stream",
          "name": "stdout",
          "text": [
            "{'cat': 'a small animal', 'table': ['a piece of furniture', 'list of facts and figures']}\n"
          ]
        }
      ]
    },
    {
      "cell_type": "code",
      "source": [
        "#how many classrooms are required for each subject\n",
        "subjects = {\n",
        "    \"python\", \"java\", \"C++\", \"python\", \"javascript\", \"java\", \"python\", \"java\", \"C++\", \"C\"\n",
        "}\n",
        "print(len(subjects))"
      ],
      "metadata": {
        "colab": {
          "base_uri": "https://localhost:8080/"
        },
        "id": "jgh4EDnK9Fx2",
        "outputId": "10eeeaa9-2acf-4937-91db-4cc6fd0f1420"
      },
      "execution_count": null,
      "outputs": [
        {
          "output_type": "stream",
          "name": "stdout",
          "text": [
            "5\n"
          ]
        }
      ]
    },
    {
      "cell_type": "code",
      "source": [
        "#to enter marks of 3 subjects from user and store in a dictionary. start with empty dictionary and add one by one. use subject name as key and marks as value\n",
        "marks = {}\n",
        "sub1 = int(input(\"Enter chem: \"))\n",
        "marks.update({\"chem\": sub1})\n",
        "\n",
        "sub2 = int(input(\"Enter phy: \"))\n",
        "marks.update({\"phy\": sub2})\n",
        "\n",
        "sub3 = int(input(\"Enter maths: \"))\n",
        "marks.update({\"maths\": sub3})\n",
        "\n",
        "print(marks)"
      ],
      "metadata": {
        "colab": {
          "base_uri": "https://localhost:8080/"
        },
        "id": "0fdiM-s7-OxN",
        "outputId": "6b71e531-a3cb-41b3-ca77-8dd63ffbd328"
      },
      "execution_count": null,
      "outputs": [
        {
          "output_type": "stream",
          "name": "stdout",
          "text": [
            "Enter chem: 90\n",
            "Enter phy: 89\n",
            "Enter maths: 78\n",
            "{'chem': 90, 'phy': 89, 'maths': 78}\n"
          ]
        }
      ]
    },
    {
      "cell_type": "code",
      "source": [
        "#store 9 and 9.0 in a set\n",
        "\n",
        "set = {9, \"9.0\"}\n",
        "print(set)\n",
        "\n",
        "\n",
        "values = {\n",
        "    (\"float\", 9.0),\n",
        "    (\"int\", 9)\n",
        "}\n",
        "print(values)"
      ],
      "metadata": {
        "colab": {
          "base_uri": "https://localhost:8080/"
        },
        "id": "1zjXjDr1CnBC",
        "outputId": "3a933bbf-e050-48a1-df6d-eedc0205de17"
      },
      "execution_count": null,
      "outputs": [
        {
          "output_type": "stream",
          "name": "stdout",
          "text": [
            "{9, '9.0'}\n",
            "{('int', 9), ('float', 9.0)}\n"
          ]
        }
      ]
    },
    {
      "cell_type": "code",
      "source": [
        "#take a string of 500 characters and break it into five variables\n",
        "\n",
        "str = (\"The quick brown fox jumps over the lazy dog. This classic phrase is often used for typing practice because it contains every letter of the alphabet. It's a useful way to test keyboards and fonts. In many situations, adhering to character limits is essential, whether for social media posts, descriptions, or short stories. For instance, some applications require essays of a specific character count. Word count, on the other hand, measures the number of words, which is useful for readability and length assessment. \")\n",
        "\n",
        "text = str[:500]\n",
        "var1 = str[0:100]\n",
        "var2 = str[100:200]\n",
        "var3 = str[200:300]\n",
        "var4 = str[300:400]\n",
        "var5 = str[400:500]\n",
        "\n",
        "print(\"first variable:\", var1)\n",
        "print(\"second variable:\", var2)\n",
        "print(\"third variable:\", var3)\n",
        "print(\"fourth variable:\", var4)\n",
        "print(\"fifth variable:\", var5)\n",
        "\n",
        "#for i in range(100):\n",
        " # print(var1[i], var2[i], var3[i], var4[i], var5[i])\n",
        "\n",
        "\n",
        "\n",
        "\n",
        "#var = str.split('.', maxsplit=5)\n",
        "#print(\"length:\" , len(str), var)"
      ],
      "metadata": {
        "id": "EpydzjA8IpBm",
        "colab": {
          "base_uri": "https://localhost:8080/"
        },
        "outputId": "6732cda3-c2d5-43ea-8fdc-4675d5ce37f5"
      },
      "execution_count": null,
      "outputs": [
        {
          "output_type": "stream",
          "name": "stdout",
          "text": [
            "first variable: The quick brown fox jumps over the lazy dog. This classic phrase is often used for typing practice b\n",
            "second variable: ecause it contains every letter of the alphabet. It's a useful way to test keyboards and fonts. In m\n",
            "third variable: any situations, adhering to character limits is essential, whether for social media posts, descripti\n",
            "fourth variable: ons, or short stories. For instance, some applications require essays of a specific character count.\n",
            "fifth variable:  Word count, on the other hand, measures the number of words, which is useful for readability and le\n"
          ]
        }
      ]
    },
    {
      "cell_type": "markdown",
      "source": [
        "### ***Sets in Python***::            sets are always in {}"
      ],
      "metadata": {
        "id": "4rdZD9VP0vSE"
      }
    },
    {
      "cell_type": "code",
      "source": [
        "collection = set()\n",
        "collection.add(1)\n",
        "collection.add(\"priya\")\n",
        "collection.add((1,2,3,4))\n",
        "\n",
        "collection.remove(\"priya\")\n",
        "print(collection, type(collection))"
      ],
      "metadata": {
        "id": "R6YQDRPor2yk",
        "colab": {
          "base_uri": "https://localhost:8080/"
        },
        "outputId": "801eb699-46e5-4256-b345-5be54cf0c683"
      },
      "execution_count": null,
      "outputs": [
        {
          "output_type": "stream",
          "name": "stdout",
          "text": [
            "{(1, 2, 3, 4), 1} <class 'set'>\n"
          ]
        }
      ]
    },
    {
      "cell_type": "code",
      "source": [
        "set = {1, 2, 3, \"priya\"}\n",
        "set.add(\"singh\")\n",
        "set.remove(1)\n",
        "set.remove(2)\n",
        "set.remove(3)\n",
        "print(set, type(set))"
      ],
      "metadata": {
        "colab": {
          "base_uri": "https://localhost:8080/"
        },
        "id": "6dXH4fpW3nbi",
        "outputId": "e94c9ed3-45fc-4004-b0a3-abf32d0b47ed"
      },
      "execution_count": null,
      "outputs": [
        {
          "output_type": "stream",
          "name": "stdout",
          "text": [
            "{'singh', 'priya'} <class 'set'>\n"
          ]
        }
      ]
    },
    {
      "cell_type": "markdown",
      "source": [
        "### ***Loops***"
      ],
      "metadata": {
        "id": "e-wuR14rx2xY"
      }
    },
    {
      "cell_type": "code",
      "source": [
        "#while loop\n",
        "\n",
        "count = 1\n",
        "while count<=5:\n",
        "  print(\"hello\")\n",
        "  count += 1\n",
        "print(count)\n",
        "\n",
        "i = 1\n",
        "while i<=5:\n",
        "  print(\"hello\")\n",
        "  i += 1\n",
        "\n",
        "\n",
        "#print numbers from 1 to 5\n",
        "i = 5\n",
        "while i >= 1:\n",
        "  print(i)\n",
        "  i-=1\n",
        "print(\"loop ended\")"
      ],
      "metadata": {
        "colab": {
          "base_uri": "https://localhost:8080/"
        },
        "id": "4ud4lPUJlrvm",
        "outputId": "875b5ead-8ccc-4dfc-a6e5-de0ce141bb13"
      },
      "execution_count": null,
      "outputs": [
        {
          "output_type": "stream",
          "name": "stdout",
          "text": [
            "hello\n",
            "hello\n",
            "hello\n",
            "hello\n",
            "hello\n",
            "6\n",
            "hello\n",
            "hello\n",
            "hello\n",
            "hello\n",
            "hello\n",
            "5\n",
            "4\n",
            "3\n",
            "2\n",
            "1\n",
            "loop ended\n"
          ]
        }
      ]
    },
    {
      "cell_type": "code",
      "source": [
        "#print numbers from 1 to 100\n",
        "i = 1\n",
        "while i <= 100:\n",
        "  print(i)\n",
        "  i += 1"
      ],
      "metadata": {
        "colab": {
          "base_uri": "https://localhost:8080/"
        },
        "id": "1ZLJGbj6yw2m",
        "outputId": "b22a2099-96c6-4d29-d06c-3a93c066eacb"
      },
      "execution_count": null,
      "outputs": [
        {
          "output_type": "stream",
          "name": "stdout",
          "text": [
            "1\n",
            "2\n",
            "3\n",
            "4\n",
            "5\n",
            "6\n",
            "7\n",
            "8\n",
            "9\n",
            "10\n",
            "11\n",
            "12\n",
            "13\n",
            "14\n",
            "15\n",
            "16\n",
            "17\n",
            "18\n",
            "19\n",
            "20\n",
            "21\n",
            "22\n",
            "23\n",
            "24\n",
            "25\n",
            "26\n",
            "27\n",
            "28\n",
            "29\n",
            "30\n",
            "31\n",
            "32\n",
            "33\n",
            "34\n",
            "35\n",
            "36\n",
            "37\n",
            "38\n",
            "39\n",
            "40\n",
            "41\n",
            "42\n",
            "43\n",
            "44\n",
            "45\n",
            "46\n",
            "47\n",
            "48\n",
            "49\n",
            "50\n",
            "51\n",
            "52\n",
            "53\n",
            "54\n",
            "55\n",
            "56\n",
            "57\n",
            "58\n",
            "59\n",
            "60\n",
            "61\n",
            "62\n",
            "63\n",
            "64\n",
            "65\n",
            "66\n",
            "67\n",
            "68\n",
            "69\n",
            "70\n",
            "71\n",
            "72\n",
            "73\n",
            "74\n",
            "75\n",
            "76\n",
            "77\n",
            "78\n",
            "79\n",
            "80\n",
            "81\n",
            "82\n",
            "83\n",
            "84\n",
            "85\n",
            "86\n",
            "87\n",
            "88\n",
            "89\n",
            "90\n",
            "91\n",
            "92\n",
            "93\n",
            "94\n",
            "95\n",
            "96\n",
            "97\n",
            "98\n",
            "99\n",
            "100\n"
          ]
        }
      ]
    },
    {
      "cell_type": "code",
      "source": [
        "#print numbers from 100 to 1\n",
        "i = 100\n",
        "while i >=1:\n",
        "  print(i)\n",
        "  i -= 1"
      ],
      "metadata": {
        "colab": {
          "base_uri": "https://localhost:8080/"
        },
        "id": "qRviapUnFbWe",
        "outputId": "729baf93-4207-413b-a3f8-4a336c53dcce"
      },
      "execution_count": null,
      "outputs": [
        {
          "output_type": "stream",
          "name": "stdout",
          "text": [
            "100\n",
            "99\n",
            "98\n",
            "97\n",
            "96\n",
            "95\n",
            "94\n",
            "93\n",
            "92\n",
            "91\n",
            "90\n",
            "89\n",
            "88\n",
            "87\n",
            "86\n",
            "85\n",
            "84\n",
            "83\n",
            "82\n",
            "81\n",
            "80\n",
            "79\n",
            "78\n",
            "77\n",
            "76\n",
            "75\n",
            "74\n",
            "73\n",
            "72\n",
            "71\n",
            "70\n",
            "69\n",
            "68\n",
            "67\n",
            "66\n",
            "65\n",
            "64\n",
            "63\n",
            "62\n",
            "61\n",
            "60\n",
            "59\n",
            "58\n",
            "57\n",
            "56\n",
            "55\n",
            "54\n",
            "53\n",
            "52\n",
            "51\n",
            "50\n",
            "49\n",
            "48\n",
            "47\n",
            "46\n",
            "45\n",
            "44\n",
            "43\n",
            "42\n",
            "41\n",
            "40\n",
            "39\n",
            "38\n",
            "37\n",
            "36\n",
            "35\n",
            "34\n",
            "33\n",
            "32\n",
            "31\n",
            "30\n",
            "29\n",
            "28\n",
            "27\n",
            "26\n",
            "25\n",
            "24\n",
            "23\n",
            "22\n",
            "21\n",
            "20\n",
            "19\n",
            "18\n",
            "17\n",
            "16\n",
            "15\n",
            "14\n",
            "13\n",
            "12\n",
            "11\n",
            "10\n",
            "9\n",
            "8\n",
            "7\n",
            "6\n",
            "5\n",
            "4\n",
            "3\n",
            "2\n",
            "1\n"
          ]
        }
      ]
    },
    {
      "cell_type": "code",
      "source": [
        "#print the multiplication table for number n\n",
        "\n",
        "n = int(input(\"Enter any number:\"))\n",
        "i = 1\n",
        "while i <= 10:\n",
        "  print(n*i)\n",
        "  i += 1\n"
      ],
      "metadata": {
        "colab": {
          "base_uri": "https://localhost:8080/"
        },
        "id": "8rEfilYbFxrN",
        "outputId": "9f726c93-4986-44aa-bed8-5e652f074acd"
      },
      "execution_count": null,
      "outputs": [
        {
          "output_type": "stream",
          "name": "stdout",
          "text": [
            "Enter any number:50\n",
            "50\n",
            "100\n",
            "150\n",
            "200\n",
            "250\n",
            "300\n",
            "350\n",
            "400\n",
            "450\n",
            "500\n"
          ]
        }
      ]
    },
    {
      "cell_type": "code",
      "source": [
        "#print the elements of the following list using a loop: [1, 4, 9, 16, 25, 36, 49, 64, 81, 100]\n",
        "num = [1, 4, 9, 16, 25, 36, 49, 64, 81, 100]\n",
        "idx = 0\n",
        "while idx < len(num):\n",
        "  print(num[idx])\n",
        "  idx += 1\n"
      ],
      "metadata": {
        "colab": {
          "base_uri": "https://localhost:8080/"
        },
        "id": "D3oYA428Go6W",
        "outputId": "9ccd5819-8bb5-40fd-d480-bee176c2bbaf"
      },
      "execution_count": null,
      "outputs": [
        {
          "output_type": "stream",
          "name": "stdout",
          "text": [
            "1\n",
            "4\n",
            "9\n",
            "16\n",
            "25\n",
            "36\n",
            "49\n",
            "64\n",
            "81\n",
            "100\n"
          ]
        }
      ]
    },
    {
      "cell_type": "code",
      "source": [
        "\n",
        "#search for a number x in this tuple using loop: (1, 4, 9, 16, 25, 36, 49, 64, 81, 100)\n",
        "\n",
        "num = (1, 4, 9, 16, 25, 36, 49, 64, 81, 100)\n",
        "\n",
        "x = 36\n",
        "i = 0\n",
        "while i < len(num):\n",
        "  if(num[i] == x):\n",
        "    print(\"found at index\" ,i)\n",
        "    break\n",
        "  else:\n",
        "    print(\"not found\")\n",
        "  i += 1"
      ],
      "metadata": {
        "colab": {
          "base_uri": "https://localhost:8080/"
        },
        "id": "b9xPHcbtKDiy",
        "outputId": "5d8e829d-4aa8-41b2-b621-b11ad203d906"
      },
      "execution_count": null,
      "outputs": [
        {
          "output_type": "stream",
          "name": "stdout",
          "text": [
            "not found\n",
            "not found\n",
            "not found\n",
            "not found\n",
            "not found\n",
            "found at index 5\n"
          ]
        }
      ]
    },
    {
      "cell_type": "code",
      "source": [
        "i = 0\n",
        "while i <= 5:\n",
        "  if(i==3):\n",
        "    i += 1\n",
        "    continue\n",
        "  print(i)\n",
        "  i += 1"
      ],
      "metadata": {
        "id": "IB2UxobPN_cZ",
        "colab": {
          "base_uri": "https://localhost:8080/"
        },
        "outputId": "235c3295-c808-4e4a-b41c-0e1836f6d41c"
      },
      "execution_count": null,
      "outputs": [
        {
          "output_type": "stream",
          "name": "stdout",
          "text": [
            "0\n",
            "1\n",
            "2\n",
            "4\n",
            "5\n"
          ]
        }
      ]
    },
    {
      "cell_type": "markdown",
      "source": [
        "# ***MY EXAMPLE***"
      ],
      "metadata": {
        "id": "Fp0nt22R-LGd"
      }
    },
    {
      "cell_type": "code",
      "source": [
        "#just example\n",
        "\n",
        "str = (\"priya singh hello i am from vjti.\")\n",
        "for var in str:\n",
        "  print(var)\n",
        "\n",
        "\n",
        "\n",
        "\n",
        "  #if var == str[:100]:\n",
        "   # print(\"first variable\")\n",
        "  #elif var == str[100:200]:\n",
        "   # print(\"second variable\")\n",
        "  #elif var == str[200:300]:\n",
        "   # print(\"third variable\")\n",
        "  #elif var == str[300:400]:\n",
        "   # print(\"fourth variable\")\n",
        "  #elif var == str[400:500]:\n",
        "   # print(\"fifth variable\")\n",
        "\n",
        "  #else:\n",
        "    #print(\"invalid\")\n",
        "#text = str[:500]\n",
        "#var1 = str[0:100]\n",
        "#var2 = str[100:200]\n",
        "#var3 = str[200:300]\n",
        "#var4 = str[300:400]\n",
        "#var5 = str[400:500]\n",
        "\n",
        "#print(\"first variable:\", var1)\n",
        "#print(\"second variable:\", var2)\n",
        "#print(\"third variable:\", var3)\n",
        "#print(\"fourth variable:\", var4)\n",
        "#print(\"fifth variable:\", var5)\n",
        "\n",
        "#for i in range(100):\n",
        " # print(var1[i], var2[i], var3[i], var4[i], var5[i])\n",
        "\n",
        "\n",
        "\n",
        "\n",
        "#var = str.split('.', maxsplit=5)\n",
        "#print(\"length:\" , len(str), var)"
      ],
      "metadata": {
        "colab": {
          "base_uri": "https://localhost:8080/"
        },
        "id": "fyY2_oIi59NN",
        "outputId": "f0bf0e65-57b2-482b-e75e-e97ae8c0bae3"
      },
      "execution_count": 2,
      "outputs": [
        {
          "output_type": "stream",
          "name": "stdout",
          "text": [
            "p\n",
            "r\n",
            "i\n",
            "y\n",
            "a\n",
            " \n",
            "s\n",
            "i\n",
            "n\n",
            "g\n",
            "h\n",
            " \n",
            "h\n",
            "e\n",
            "l\n",
            "l\n",
            "o\n",
            " \n",
            "i\n",
            " \n",
            "a\n",
            "m\n",
            " \n",
            "f\n",
            "r\n",
            "o\n",
            "m\n",
            " \n",
            "v\n",
            "j\n",
            "t\n",
            "i\n",
            ".\n"
          ]
        }
      ]
    },
    {
      "cell_type": "code",
      "source": [
        "#print the elements of following list using a loop: [1, 4, 9, 16, 25, 36, 49, 64, 81, 100]\n",
        "\n",
        "nums = [1, 4, 9, 16, 25, 36, 49, 64, 81, 100]\n",
        "\n",
        "for val in nums:\n",
        "  print(val)"
      ],
      "metadata": {
        "colab": {
          "base_uri": "https://localhost:8080/"
        },
        "id": "nIARKX9Y9aiU",
        "outputId": "ff378285-6c8d-4ed2-b28c-8716e6bfff92"
      },
      "execution_count": null,
      "outputs": [
        {
          "output_type": "stream",
          "name": "stdout",
          "text": [
            "1\n",
            "4\n",
            "9\n",
            "16\n",
            "25\n",
            "36\n",
            "49\n",
            "64\n",
            "81\n",
            "100\n"
          ]
        }
      ]
    },
    {
      "cell_type": "code",
      "source": [
        "#linear search\n",
        "#search for a number x in this tuple using a loop\n",
        "\n",
        "nums = [1, 4, 9, 16, 25, 36, 49, 64, 81, 100]\n",
        "x = 25\n",
        "i = 0\n",
        "for val in nums:\n",
        "  if (val == x):\n",
        "    print(\"Found at\", i)\n",
        "  i += 1\n"
      ],
      "metadata": {
        "colab": {
          "base_uri": "https://localhost:8080/"
        },
        "id": "byXD19ZLAgva",
        "outputId": "8774ea98-9f47-4722-e9bc-47be468a8424"
      },
      "execution_count": null,
      "outputs": [
        {
          "output_type": "stream",
          "name": "stdout",
          "text": [
            "Found at 4\n"
          ]
        }
      ]
    },
    {
      "cell_type": "markdown",
      "source": [
        "### ***QUESTIONS GIVEN BY SIR***"
      ],
      "metadata": {
        "id": "XC2W2gD-l18I"
      }
    },
    {
      "cell_type": "code",
      "source": [
        " # eliminate duplicate characters from Geeksforgeeks and print unique characters\n",
        "\n",
        "str = \"GEEKSFORGEEKS\"\n",
        "unique = \"\"\n",
        "for char in str:\n",
        "  if char not in unique:\n",
        "    unique += char\n",
        "print(unique)\n",
        " # else:\n",
        " #   print(\"end\")\n"
      ],
      "metadata": {
        "colab": {
          "base_uri": "https://localhost:8080/"
        },
        "id": "myTFsiNMzfEI",
        "outputId": "e0d140dd-dabe-4881-f5be-dcae4e93a89d"
      },
      "execution_count": null,
      "outputs": [
        {
          "output_type": "stream",
          "name": "stdout",
          "text": [
            "GEKSFOR\n"
          ]
        }
      ]
    },
    {
      "cell_type": "code",
      "source": [
        " # eliminate duplicate characters from Geeksforgeeks and print unique characters\n",
        "\n",
        "str = \"GEEKSFORGEEKS\"\n",
        "unique = \"\"\n",
        "for char in str:\n",
        "  if char not in unique:\n",
        "    unique += char\n",
        "for var in unique:\n",
        "  print(var)\n",
        " # else:\n",
        " #   print(\"end\")"
      ],
      "metadata": {
        "colab": {
          "base_uri": "https://localhost:8080/"
        },
        "id": "fJFnaLyi48Az",
        "outputId": "f8b41672-27a5-484e-a7d1-a4845ca0e29f"
      },
      "execution_count": null,
      "outputs": [
        {
          "output_type": "stream",
          "name": "stdout",
          "text": [
            "G\n",
            "E\n",
            "K\n",
            "S\n",
            "F\n",
            "O\n",
            "R\n"
          ]
        }
      ]
    },
    {
      "cell_type": "code",
      "source": [
        "# eliminate duplicate characters from Geeksforgeeks and print unique characters\n",
        "\n",
        "str = \"GEEKSFORGEEKS\"\n",
        "unique = \"\"\n",
        "for char in str:\n",
        "  if char not in unique:\n",
        "    unique += char\n",
        "for var in reversed(unique):\n",
        "  print(var)\n",
        " # else:\n",
        " #   print(\"end\")\n"
      ],
      "metadata": {
        "colab": {
          "base_uri": "https://localhost:8080/"
        },
        "id": "OO8Gt3RLAY8U",
        "outputId": "8796ef6c-f808-4bd4-fdb7-f4a12e21a1e9"
      },
      "execution_count": null,
      "outputs": [
        {
          "output_type": "stream",
          "name": "stdout",
          "text": [
            "R\n",
            "O\n",
            "F\n",
            "S\n",
            "K\n",
            "E\n",
            "G\n"
          ]
        }
      ]
    },
    {
      "cell_type": "code",
      "source": [
        "str = (\"The quick brown fox jumps over the lazy dog. This classic phrase is often used for typing practice because it contains every letter of the alphabet. It's a useful way to test keyboards and fonts. In many situations, adhering to character limits is essential, whether for social media posts, descriptions, or short stories. For instance, some applications require essays of a specific character count. Word count, on the other hand, measures the number of words, which is useful for readability and length assessment.\")\n",
        "\n",
        "var = str.split('.', maxsplit=5)\n",
        "print(\"length:\" , len(str), var)\n",
        "\n",
        "for sentence in var:\n",
        "        print(sentence + '.')"
      ],
      "metadata": {
        "colab": {
          "base_uri": "https://localhost:8080/"
        },
        "id": "DkKzX-HtAtEM",
        "outputId": "ef326ecf-d769-4532-a2d3-65c614ec8ec6"
      },
      "execution_count": 7,
      "outputs": [
        {
          "output_type": "stream",
          "name": "stdout",
          "text": [
            "length: 516 ['The quick brown fox jumps over the lazy dog', ' This classic phrase is often used for typing practice because it contains every letter of the alphabet', \" It's a useful way to test keyboards and fonts\", ' In many situations, adhering to character limits is essential, whether for social media posts, descriptions, or short stories', ' For instance, some applications require essays of a specific character count', ' Word count, on the other hand, measures the number of words, which is useful for readability and length assessment.']\n",
            "The quick brown fox jumps over the lazy dog.\n",
            " This classic phrase is often used for typing practice because it contains every letter of the alphabet.\n",
            " It's a useful way to test keyboards and fonts.\n",
            " In many situations, adhering to character limits is essential, whether for social media posts, descriptions, or short stories.\n",
            " For instance, some applications require essays of a specific character count.\n",
            " Word count, on the other hand, measures the number of words, which is useful for readability and length assessment..\n"
          ]
        }
      ]
    },
    {
      "cell_type": "markdown",
      "source": [
        "# ***LOOPS (RANGE)***"
      ],
      "metadata": {
        "id": "gkVoYOxWmAZ4"
      }
    },
    {
      "cell_type": "code",
      "source": [
        "#print numbers from 1 to 100\n",
        "\n",
        "for i in range(1, 100+1):\n",
        "  print(i)"
      ],
      "metadata": {
        "colab": {
          "base_uri": "https://localhost:8080/"
        },
        "id": "psO1g22LdT98",
        "outputId": "0ebd2ce4-3bff-41e7-8e03-a808772cce5d"
      },
      "execution_count": 8,
      "outputs": [
        {
          "output_type": "stream",
          "name": "stdout",
          "text": [
            "1\n",
            "2\n",
            "3\n",
            "4\n",
            "5\n",
            "6\n",
            "7\n",
            "8\n",
            "9\n",
            "10\n",
            "11\n",
            "12\n",
            "13\n",
            "14\n",
            "15\n",
            "16\n",
            "17\n",
            "18\n",
            "19\n",
            "20\n",
            "21\n",
            "22\n",
            "23\n",
            "24\n",
            "25\n",
            "26\n",
            "27\n",
            "28\n",
            "29\n",
            "30\n",
            "31\n",
            "32\n",
            "33\n",
            "34\n",
            "35\n",
            "36\n",
            "37\n",
            "38\n",
            "39\n",
            "40\n",
            "41\n",
            "42\n",
            "43\n",
            "44\n",
            "45\n",
            "46\n",
            "47\n",
            "48\n",
            "49\n",
            "50\n",
            "51\n",
            "52\n",
            "53\n",
            "54\n",
            "55\n",
            "56\n",
            "57\n",
            "58\n",
            "59\n",
            "60\n",
            "61\n",
            "62\n",
            "63\n",
            "64\n",
            "65\n",
            "66\n",
            "67\n",
            "68\n",
            "69\n",
            "70\n",
            "71\n",
            "72\n",
            "73\n",
            "74\n",
            "75\n",
            "76\n",
            "77\n",
            "78\n",
            "79\n",
            "80\n",
            "81\n",
            "82\n",
            "83\n",
            "84\n",
            "85\n",
            "86\n",
            "87\n",
            "88\n",
            "89\n",
            "90\n",
            "91\n",
            "92\n",
            "93\n",
            "94\n",
            "95\n",
            "96\n",
            "97\n",
            "98\n",
            "99\n",
            "100\n"
          ]
        }
      ]
    },
    {
      "cell_type": "code",
      "source": [
        "#print numbers from 100 to 1\n",
        "\n",
        "for i in range (1, 101):\n",
        "  print(101-i)"
      ],
      "metadata": {
        "colab": {
          "base_uri": "https://localhost:8080/"
        },
        "id": "McnCzJfgmSeo",
        "outputId": "2b6614c6-77eb-47fa-99d1-ca7287dd1156"
      },
      "execution_count": 11,
      "outputs": [
        {
          "output_type": "stream",
          "name": "stdout",
          "text": [
            "100\n",
            "99\n",
            "98\n",
            "97\n",
            "96\n",
            "95\n",
            "94\n",
            "93\n",
            "92\n",
            "91\n",
            "90\n",
            "89\n",
            "88\n",
            "87\n",
            "86\n",
            "85\n",
            "84\n",
            "83\n",
            "82\n",
            "81\n",
            "80\n",
            "79\n",
            "78\n",
            "77\n",
            "76\n",
            "75\n",
            "74\n",
            "73\n",
            "72\n",
            "71\n",
            "70\n",
            "69\n",
            "68\n",
            "67\n",
            "66\n",
            "65\n",
            "64\n",
            "63\n",
            "62\n",
            "61\n",
            "60\n",
            "59\n",
            "58\n",
            "57\n",
            "56\n",
            "55\n",
            "54\n",
            "53\n",
            "52\n",
            "51\n",
            "50\n",
            "49\n",
            "48\n",
            "47\n",
            "46\n",
            "45\n",
            "44\n",
            "43\n",
            "42\n",
            "41\n",
            "40\n",
            "39\n",
            "38\n",
            "37\n",
            "36\n",
            "35\n",
            "34\n",
            "33\n",
            "32\n",
            "31\n",
            "30\n",
            "29\n",
            "28\n",
            "27\n",
            "26\n",
            "25\n",
            "24\n",
            "23\n",
            "22\n",
            "21\n",
            "20\n",
            "19\n",
            "18\n",
            "17\n",
            "16\n",
            "15\n",
            "14\n",
            "13\n",
            "12\n",
            "11\n",
            "10\n",
            "9\n",
            "8\n",
            "7\n",
            "6\n",
            "5\n",
            "4\n",
            "3\n",
            "2\n",
            "1\n"
          ]
        }
      ]
    },
    {
      "cell_type": "code",
      "source": [
        "#print multiplicatoin table of a number n\n",
        "\n",
        "num = int(input(\"Enter any number: \"))\n",
        "for i in range(1, 12+1):\n",
        "  print(num*i)"
      ],
      "metadata": {
        "colab": {
          "base_uri": "https://localhost:8080/"
        },
        "id": "zWQCpGpPmX1Q",
        "outputId": "a5b1baec-a256-40d8-8b87-c25cc91f2f5b"
      },
      "execution_count": 12,
      "outputs": [
        {
          "output_type": "stream",
          "name": "stdout",
          "text": [
            "Enter any number: 3\n",
            "3\n",
            "6\n",
            "9\n",
            "12\n",
            "15\n",
            "18\n",
            "21\n",
            "24\n",
            "27\n",
            "30\n",
            "33\n",
            "36\n"
          ]
        }
      ]
    },
    {
      "cell_type": "code",
      "source": [
        "#to find the sum of first n natural numbers(using while)\n",
        "\n",
        "n = 5\n",
        "sum = 0\n",
        "i = 1\n",
        "while i <= n:\n",
        "  sum += i\n",
        "  i += 1\n",
        "print(sum)\n"
      ],
      "metadata": {
        "colab": {
          "base_uri": "https://localhost:8080/"
        },
        "id": "9YXRI_AvnAsQ",
        "outputId": "8f4f4e54-558f-49e8-9e76-c1e5472f2d80"
      },
      "execution_count": 13,
      "outputs": [
        {
          "output_type": "stream",
          "name": "stdout",
          "text": [
            "15\n"
          ]
        }
      ]
    },
    {
      "cell_type": "code",
      "source": [
        "#to find the factorial of first n natural numbers(using for)\n",
        "\n",
        "n = 6\n",
        "factorial = 1\n",
        "i = 1\n",
        "for i in range(1, n+1):\n",
        "  factorial *= i\n",
        "  print(factorial)"
      ],
      "metadata": {
        "colab": {
          "base_uri": "https://localhost:8080/"
        },
        "id": "KuHi1MHQn0dH",
        "outputId": "084908f3-48bd-43c0-d1b1-baedb08fd9af"
      },
      "execution_count": 18,
      "outputs": [
        {
          "output_type": "stream",
          "name": "stdout",
          "text": [
            "1\n",
            "2\n",
            "6\n",
            "24\n",
            "120\n",
            "720\n"
          ]
        }
      ]
    },
    {
      "cell_type": "code",
      "source": [],
      "metadata": {
        "id": "9EKPjibvoiGn"
      },
      "execution_count": null,
      "outputs": []
    }
  ]
}